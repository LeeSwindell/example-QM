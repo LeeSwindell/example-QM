{
 "cells": [
  {
   "cell_type": "markdown",
   "metadata": {},
   "source": [
    "# PHYS 3317 -- Statistical Mechanics"
   ]
  },
  {
   "cell_type": "markdown",
   "metadata": {},
   "source": [
    "Lee Swindell"
   ]
  },
  {
   "cell_type": "markdown",
   "metadata": {},
   "source": [
    "### The wedding cake structure of trapped atoms in an optical lattice"
   ]
  },
  {
   "cell_type": "markdown",
   "metadata": {},
   "source": [
    "This is a fairly simple exercise, but it nicely illustrates how one uses partition functions.  It also illustrates a problem which is easy to do numerically but hard to do analytically."
   ]
  },
  {
   "cell_type": "markdown",
   "metadata": {},
   "source": [
    "We will think about experiments where a gas of bosonic $^{87}$Rb atoms are trapped in a periodic potential formed from interfering laser beams.  In the limit where the potential wells are very deep, one can model each site as being independent of the others (which just provide a particle and heat bath).  This is known as the \"Mott\" limit."
   ]
  },
  {
   "cell_type": "markdown",
   "metadata": {},
   "source": [
    "We will therefore just consider a single site.  Since it is in contact with both a thermal bath, and a particle bath, we should describe it by the Grand Canonical Ensemble."
   ]
  },
  {
   "cell_type": "markdown",
   "metadata": {},
   "source": [
    "This means that the probability of state $i$ is "
   ]
  },
  {
   "cell_type": "markdown",
   "metadata": {},
   "source": [
    "$$p_i =\\frac{1}{Z} e^{-\\beta (E_i-\\mu N_i)}$$"
   ]
  },
  {
   "cell_type": "markdown",
   "metadata": {},
   "source": [
    "where"
   ]
  },
  {
   "cell_type": "markdown",
   "metadata": {},
   "source": [
    "$$Z=\\sum_i e^{-\\beta (E_i-\\mu N_i)}$$"
   ]
  },
  {
   "cell_type": "markdown",
   "metadata": {},
   "source": [
    "The spacing between single particle orbitals on a site is huge -- so it is a good approximation to assume there is only one orbital.  Therefore the state is uniquely defined by the number of particles $N$.  "
   ]
  },
  {
   "cell_type": "markdown",
   "metadata": {},
   "source": [
    "A good model of the energy is that "
   ]
  },
  {
   "cell_type": "markdown",
   "metadata": {},
   "source": [
    "$$ E_N=U N (N-1)/2 + V N$$"
   ]
  },
  {
   "cell_type": "markdown",
   "metadata": {},
   "source": [
    "Here $U$ is the interaction energy between two particles in the same site, and $V$ is the energy required to put a particle on a site.  You can think of $V$ as the bottom of the potential well."
   ]
  },
  {
   "cell_type": "markdown",
   "metadata": {},
   "source": [
    "In this exercise we will calculate the equation of state of this system -- that is we will find $N$ as a function of $\\mu$ and $\\beta$.  The interesting physics occurs at low temperatures -- so we will assume $\\beta U \\gg 1$."
   ]
  },
  {
   "cell_type": "markdown",
   "metadata": {},
   "source": [
    "To avoid any issues with integer division, lets start with"
   ]
  },
  {
   "cell_type": "code",
   "execution_count": 1,
   "metadata": {},
   "outputs": [],
   "source": [
    "from __future__ import division"
   ]
  },
  {
   "cell_type": "markdown",
   "metadata": {},
   "source": [
    "Lets also load in the graphics and math packages"
   ]
  },
  {
   "cell_type": "code",
   "execution_count": 2,
   "metadata": {},
   "outputs": [
    {
     "name": "stdout",
     "output_type": "stream",
     "text": [
      "Populating the interactive namespace from numpy and matplotlib\n"
     ]
    }
   ],
   "source": [
    "%pylab inline"
   ]
  },
  {
   "cell_type": "markdown",
   "metadata": {},
   "source": [
    "Next, lets calculate the partition function: "
   ]
  },
  {
   "cell_type": "markdown",
   "metadata": {},
   "source": [
    "$$Z= \\sum_{N=0}^\\infty e^{-\\beta [ U N(N-1)/2 + (V-\\mu) N]}$$"
   ]
  },
  {
   "cell_type": "markdown",
   "metadata": {},
   "source": [
    "This is most simply thought of as a function of the dimensionless variables <tt>betamu</tt>=$\\beta U$ and <tt>dmu<tt>=$(mu-V)/U$.  "
   ]
  },
  {
   "cell_type": "markdown",
   "metadata": {},
   "source": [
    "This sum cannot be calculated analytically, so we will have to do it numerically.  A good first step in numerically doing a sum is to look at the size of a few elements.  Generate a function which will make the list of the first maxN elements:  "
   ]
  },
  {
   "cell_type": "code",
   "execution_count": 3,
   "metadata": {},
   "outputs": [],
   "source": [
    "def partitionelements(betaU,dmu,maxn):\n",
    "    nlist=arange(maxn+1)\n",
    "    return e**(-betaU*nlist*(nlist-1)/2.0+betaU*dmu*nlist)  # Finish this line"
   ]
  },
  {
   "cell_type": "markdown",
   "metadata": {},
   "source": [
    "Plot these elements for various arguments"
   ]
  },
  {
   "cell_type": "code",
   "execution_count": 4,
   "metadata": {},
   "outputs": [
    {
     "data": {
      "text/plain": [
       "[<matplotlib.lines.Line2D at 0x10f5df6a0>]"
      ]
     },
     "execution_count": 4,
     "metadata": {},
     "output_type": "execute_result"
    },
    {
     "data": {
      "image/png": "[encoded data removed]",
      "text/plain": [
       "<Figure size 432x288 with 1 Axes>"
      ]
     },
     "metadata": {
      "needs_background": "light"
     },
     "output_type": "display_data"
    }
   ],
   "source": [
    "plot(partitionelements(betaU=10,dmu=-2,maxn=10))"
   ]
  },
  {
   "cell_type": "code",
   "execution_count": 5,
   "metadata": {},
   "outputs": [
    {
     "data": {
      "text/plain": [
       "[<matplotlib.lines.Line2D at 0x10f7eaac0>]"
      ]
     },
     "execution_count": 5,
     "metadata": {},
     "output_type": "execute_result"
    },
    {
     "data": {
      "image/png": "[encoded data removed]",
      "text/plain": [
       "<Figure size 432x288 with 1 Axes>"
      ]
     },
     "metadata": {
      "needs_background": "light"
     },
     "output_type": "display_data"
    }
   ],
   "source": [
    "plot(partitionelements(betaU=10,dmu=2.5,maxn=10))"
   ]
  },
  {
   "cell_type": "markdown",
   "metadata": {},
   "source": [
    "As you can see, at low temperatures, the sum seems to be dominated by a few terms.  It therefore seems reasonable to just truncate the sum, by just adding up all the terms to <tt>maxn</tt>.  We can always plot it to verify."
   ]
  },
  {
   "cell_type": "markdown",
   "metadata": {},
   "source": [
    "Once we have a list of the terms we can sum them like this."
   ]
  },
  {
   "cell_type": "code",
   "execution_count": 6,
   "metadata": {},
   "outputs": [
    {
     "data": {
      "text/plain": [
       "131.2599073308353"
      ]
     },
     "execution_count": 6,
     "metadata": {},
     "output_type": "execute_result"
    },
    {
     "data": {
      "image/png": "[encoded data removed]",
      "text/plain": [
       "<Figure size 432x288 with 1 Axes>"
      ]
     },
     "metadata": {
      "needs_background": "light"
     },
     "output_type": "display_data"
    }
   ],
   "source": [
    "zterms=partitionelements(betaU=0.1,dmu=7,maxn=50) # generate the terms \n",
    "plot(zterms) # plot them\n",
    "zterms.sum() # calculate the sum -- you have seen this notation before"
   ]
  },
  {
   "cell_type": "markdown",
   "metadata": {},
   "source": [
    "<b>Problem 1:</b> Generate a function which gives the average $\\langle N\\rangle$ as a function of <tt>betaU</tt>, <tt>dmu</tt>, and <tt>maxn</tt>. "
   ]
  },
  {
   "cell_type": "markdown",
   "metadata": {},
   "source": [
    "$$\\langle N\\rangle=\\frac{1}{Z}\\sum_N N e^{-\\beta[U N(N-1)/2+(V-\\mu)N]}$$"
   ]
  },
  {
   "cell_type": "code",
   "execution_count": 7,
   "metadata": {},
   "outputs": [],
   "source": [
    "def averageN(betaU,dmu,maxn):\n",
    "    p_elements=partitionelements(betaU,dmu,maxn)\n",
    "    z=p_elements.sum()\n",
    "    nlist2=arange(maxn+1)\n",
    "    sum_terms=nlist2*partitionelements(betaU,dmu,maxn)\n",
    "    return (sum_terms).sum()/z "
   ]
  },
  {
   "cell_type": "code",
   "execution_count": 8,
   "metadata": {},
   "outputs": [],
   "source": [
    "# Test it"
   ]
  },
  {
   "cell_type": "code",
   "execution_count": 9,
   "metadata": {},
   "outputs": [
    {
     "data": {
      "text/plain": [
       "5.5"
      ]
     },
     "execution_count": 9,
     "metadata": {},
     "output_type": "execute_result"
    }
   ],
   "source": [
    "averageN(10,5,50)"
   ]
  },
  {
   "cell_type": "markdown",
   "metadata": {},
   "source": [
    "We can now make a plot of $\\langle N\\rangle$ as a function of <tt>dmu</tt> for fixed <tt>betamu</tt>=45 as follows:"
   ]
  },
  {
   "cell_type": "code",
   "execution_count": 10,
   "metadata": {},
   "outputs": [
    {
     "name": "stderr",
     "output_type": "stream",
     "text": [
      "/var/folders/md/nz6fcn6n2ss4mjv359x897fm0000gn/T/ipykernel_974/1127999615.py:3: RuntimeWarning: overflow encountered in power\n",
      "  return e**(-betaU*nlist*(nlist-1)/2.0+betaU*dmu*nlist)  # Finish this line\n",
      "/var/folders/md/nz6fcn6n2ss4mjv359x897fm0000gn/T/ipykernel_974/321204164.py:6: RuntimeWarning: invalid value encountered in double_scalars\n",
      "  return (sum_terms).sum()/z\n",
      "/var/folders/md/nz6fcn6n2ss4mjv359x897fm0000gn/T/ipykernel_974/321204164.py:5: RuntimeWarning: overflow encountered in multiply\n",
      "  sum_terms=nlist2*partitionelements(betaU,dmu,maxn)\n"
     ]
    },
    {
     "data": {
      "image/png": "[encoded data removed]",
      "text/plain": [
       "<Figure size 432x288 with 1 Axes>"
      ]
     },
     "metadata": {
      "needs_background": "light"
     },
     "output_type": "display_data"
    }
   ],
   "source": [
    "dmulist=arange(-1,10,0.01)\n",
    "avenlist=[averageN(betaU=45,dmu=mu,maxn=50) for mu in dmulist]\n",
    "plot(dmulist,avenlist)\n",
    "xlabel(r\"$(\\mu-V)/U$\",fontsize=18)\n",
    "ylabel(r\"$\\langle N\\rangle$\",fontsize=18)\n",
    "title(r\"$\\beta U=30$\",fontsize=22)\n",
    "grid()"
   ]
  },
  {
   "cell_type": "markdown",
   "metadata": {},
   "source": [
    "<b> Problem 2:</b> Explain (in a sentence or two) why there are steps:"
   ]
  },
  {
   "cell_type": "markdown",
   "metadata": {},
   "source": [
    "<em>when betamu is big, the temp is really small, so we need to use a quantum model for the energy states. These states are discrete so we get steps </em>"
   ]
  },
  {
   "cell_type": "markdown",
   "metadata": {},
   "source": [
    "These steps are seen in experiments.  By including additional trapping potentials, you can make the potential $V$ vary with space.  Thus the density, coarse grained over the lattice, has steps. An example is at <a href=\"http://www.nature.com/nature/journal/v460/n7258/full/nature08244.html\">Nature</a>."
   ]
  },
  {
   "cell_type": "markdown",
   "metadata": {},
   "source": [
    "<b> Problem 2:</b> Make a plot of $\\langle N \\rangle$ as a function of $dmu$ for for betamu=10,5,1.  Label each graph with the temperature (as I did above)."
   ]
  },
  {
   "cell_type": "code",
   "execution_count": 11,
   "metadata": {},
   "outputs": [
    {
     "data": {
      "image/png": "[encoded data removed]",
      "text/plain": [
       "<Figure size 432x288 with 1 Axes>"
      ]
     },
     "metadata": {
      "needs_background": "light"
     },
     "output_type": "display_data"
    }
   ],
   "source": [
    "dmulist=arange(-1,10,0.01)\n",
    "avenlist=[averageN(betaU=10,dmu=mu,maxn=50) for mu in dmulist]\n",
    "plot(dmulist,avenlist)\n",
    "xlabel(r\"$(\\mu-V)/U$\",fontsize=18)\n",
    "ylabel(r\"$\\langle N\\rangle$\",fontsize=18)\n",
    "title(r\"$\\beta U=10$\",fontsize=22)\n",
    "grid()"
   ]
  },
  {
   "cell_type": "code",
   "execution_count": 12,
   "metadata": {},
   "outputs": [
    {
     "data": {
      "image/png": "[encoded data removed]",
      "text/plain": [
       "<Figure size 432x288 with 1 Axes>"
      ]
     },
     "metadata": {
      "needs_background": "light"
     },
     "output_type": "display_data"
    }
   ],
   "source": [
    "dmulist=arange(-1,10,0.01)\n",
    "avenlist=[averageN(betaU=5,dmu=mu,maxn=50) for mu in dmulist]\n",
    "plot(dmulist,avenlist)\n",
    "xlabel(r\"$(\\mu-V)/U$\",fontsize=18)\n",
    "ylabel(r\"$\\langle N\\rangle$\",fontsize=18)\n",
    "title(r\"$\\beta U=5$\",fontsize=22)\n",
    "grid()"
   ]
  },
  {
   "cell_type": "code",
   "execution_count": 13,
   "metadata": {},
   "outputs": [
    {
     "data": {
      "image/png": "[encoded data removed]",
      "text/plain": [
       "<Figure size 432x288 with 1 Axes>"
      ]
     },
     "metadata": {
      "needs_background": "light"
     },
     "output_type": "display_data"
    }
   ],
   "source": [
    "dmulist=arange(-1,10,0.01)\n",
    "avenlist=[averageN(betaU=1,dmu=mu,maxn=50) for mu in dmulist]\n",
    "plot(dmulist,avenlist)\n",
    "xlabel(r\"$(\\mu-V)/U$\",fontsize=18)\n",
    "ylabel(r\"$\\langle N\\rangle$\",fontsize=18)\n",
    "title(r\"$\\beta U=1$\",fontsize=22)\n",
    "grid()"
   ]
  },
  {
   "cell_type": "markdown",
   "metadata": {},
   "source": [
    "<b>Problem 3:</b> Explain why the steps go away at high temperatures."
   ]
  },
  {
   "cell_type": "markdown",
   "metadata": {},
   "source": [
    "<em> as betamu gets smaller (higher temperature), a classical model becomes more accurate, with the difference in energy states being more continuous. </em>"
   ]
  }
 ],
 "metadata": {
  "kernelspec": {
   "display_name": "scipytest",
   "language": "python",
   "name": "scipytest"
  },
  "language_info": {
   "codemirror_mode": {
    "name": "ipython",
    "version": 3
   },
   "file_extension": ".py",
   "mimetype": "text/x-python",
   "name": "python",
   "nbconvert_exporter": "python",
   "pygments_lexer": "ipython3",
   "version": "3.9.7"
  }
 },
 "nbformat": 4,
 "nbformat_minor": 1
}
