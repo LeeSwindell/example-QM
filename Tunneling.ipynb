{
 "cells": [
  {
   "cell_type": "markdown",
   "metadata": {},
   "source": [
    "# PHYS 3317 -- Tunneling"
   ]
  },
  {
   "cell_type": "markdown",
   "metadata": {},
   "source": [
    "<font color=\"red\"><em> Lee Swindell </em></font>"
   ]
  },
  {
   "cell_type": "markdown",
   "metadata": {},
   "source": [
    "Work in units where $\\hbar=m=1$ consider a box of length $L=40$, with hard wall boundary conditions.  Use a grid spacing $dx=0.02$.  \n",
    "<ul>\n",
    "<li> Create a potential which is zero, except for between $x=20$ to $x=20.2$, where the potential has height $V_0=800$. </li>\n",
    "<li>Plot the potential. </li>\n",
    "<li>Create a Gaussian wavepacket centered at $x=4$ with wave-vector $k=12\\pi$ and width $\\delta x=1$</li>\n",
    "<li>Plot this wavepacket</li>\n",
    "<li>Use the <em>tdseviewer</em> package to animate the time evolution of this wavepacket.  Use a timestep dt=0.0001, and integrate from time t=0 to time t=1.  Plot only one frame out of 100.  Store the time-series of the wavefunction.</li>\n",
    "<li>You should find that the wave-packet splits into two, with one part passing through the barrier, and the other reflecting.</li>\n",
    "<li>Analyze your stored time-series to calculate the probability that the wavepacket passes through the barrier.</li>\n",
    "<li>Repeat for barriers with thicknesses 0.4 and 0.8.</li>\n",
    "<li>Make a plot of the logarithm of the barrier penetration probability versus barrier thickness.</li>\n",
    "</ul>"
   ]
  },
  {
   "cell_type": "code",
   "execution_count": 6,
   "metadata": {},
   "outputs": [
    {
     "name": "stdout",
     "output_type": "stream",
     "text": [
      "Populating the interactive namespace from numpy and matplotlib\n"
     ]
    },
    {
     "name": "stderr",
     "output_type": "stream",
     "text": [
      "WARNING: pylab import has clobbered these variables: ['linalg']\n",
      "`%matplotlib` prevents importing * from pylab and numpy\n"
     ]
    }
   ],
   "source": [
    "%pylab inline\n",
    "from __future__ import division\n",
    "from scipy.sparse import *\n",
    "from showmat import showmat\n",
    "%gui tk\n",
    "import TDSEviewer4\n",
    "from TDSEviewer4 import *\n",
    "import scipy.sparse.linalg as linalg\n",
    "import scipy.sparse as sparse"
   ]
  },
  {
   "cell_type": "code",
   "execution_count": 8,
   "metadata": {},
   "outputs": [],
   "source": [
    "#Create Potential\n",
    "\n",
    "xgrid=arange(0,40,.02)\n",
    "xbarrier=arange(20,20.2,.02)\n",
    "pot=concatenate([0*arange(0,20,.02),800*xbarrier/xbarrier,0*arange(20.2,40,.02)])"
   ]
  },
  {
   "cell_type": "code",
   "execution_count": 9,
   "metadata": {},
   "outputs": [
    {
     "data": {
      "text/plain": [
       "<matplotlib.text.Text at 0x107b51150>"
      ]
     },
     "execution_count": 9,
     "metadata": {},
     "output_type": "execute_result"
    },
    {
     "data": {
      "image/png": "[encoded data removed]",
      "text/plain": [
       "<matplotlib.figure.Figure at 0x10cba7c90>"
      ]
     },
     "metadata": {},
     "output_type": "display_data"
    }
   ],
   "source": [
    "#Plot Potential\n",
    "plot (xgrid,pot)\n",
    "axis([19.8,20.4,-10,810])\n",
    "xlabel('position')\n",
    "ylabel('potential')\n",
    "title('potential vs position')"
   ]
  },
  {
   "cell_type": "code",
   "execution_count": 10,
   "metadata": {},
   "outputs": [],
   "source": [
    "def SecondDerivMatrix(numpoints,dx,periodic) : \n",
    "    \"\"\"SecondDerivMatrix(numpoints,dx,periodic) returns a sparse matrix\n",
    "    which represents the second derivative -- using a 3-point derivative.  \n",
    "\n",
    "    It takes periodic needed arguments:\n",
    "    numpoints -- an integer which is how many points are in the grid\n",
    "    dx -- the real space lattice spacing\n",
    "    periodic -- do we use periodic boundary conditions?\n",
    "\n",
    "    Setting periodic to \"False\" will give \"hard wall boundaries\"\n",
    "    \"\"\"\n",
    "    unitlist=ones(numpoints)  # just a list of 1's whose length is equal to the length of the grid\n",
    "    if periodic :\n",
    "        return dia_matrix(       # we are generating a sparse matrix by specifying the diagonals\n",
    "            ((unitlist/(dx**2),unitlist/(dx**2),-2*unitlist/(dx**2),unitlist/(dx**2),unitlist/(dx**2)),\n",
    "            (1,-1,0,numpoints-1,1-numpoints)),  # this line specifies which diagonals\n",
    "            shape=(numpoints,numpoints))\n",
    "    else :\n",
    "        return dia_matrix(       # we are generating a sparse matrix by specifying the diagonals\n",
    "            ((unitlist/(dx**2),unitlist/(dx**2),-2*unitlist/(dx**2)),\n",
    "            (1,-1,0)),  # this line specifies which diagonals\n",
    "            shape=(numpoints,numpoints))\n",
    "    \n",
    "def PotentialMatrix(potential):\n",
    "    \"\"\"PotentialMatrix(potential)\n",
    "    generates a finite difference approximation to the operator V(x).\n",
    "    It is called by the following arguments:\n",
    "    potential -- the list of the potential values\n",
    "    \"\"\"\n",
    "\n",
    "    ln=len(potential)\n",
    "    return dia_matrix((potential,0),shape=(ln,ln))\n",
    "    \n",
    "def HamiltonianMatrix(potential,dx,periodic=True,hbar=1,mass=1):\n",
    "    \"\"\"HamiltonianMatrix(potential,dx,hbar=1,mass=1)\n",
    "    generates a finite difference approximation to the hamiltonian operator H\n",
    "    for the case of a single particle in a potential V(x)\n",
    "\n",
    "    It is called by the following required arguments:\n",
    "    potential -- a list of values for the potential\n",
    "    dx -- the grid spacing\n",
    "    \n",
    "    It also has two optional arguments, which are assumed to be equal to unity if they\n",
    "    are not specified\n",
    "    hbar -- Planck's constant divided by 2 pi\n",
    "    mass -- the particle mass\n",
    "    \"\"\"\n",
    "    numpoints=len(potential)\n",
    "    kin=-(0.5*hbar**2/mass)*SecondDerivMatrix(numpoints=numpoints,dx=dx,periodic=periodic) # calculate kinetic energy operator\n",
    "    pot=PotentialMatrix(potential) #calculate potential energy operator\n",
    "    return kin+pot"
   ]
  },
  {
   "cell_type": "code",
   "execution_count": 11,
   "metadata": {
    "collapsed": true
   },
   "outputs": [],
   "source": [
    "\n",
    "dt=0.0001  # set time step\n",
    "\n",
    "dx=0.02  # set x step\n",
    "hardwallham=HamiltonianMatrix(potential=pot,dx=dx,periodic=False) #make Hamiltonian\n",
    "\n",
    "csrham=csc_matrix(hardwallham)                              # convert to more efficient format\n",
    "hamsize=hardwallham.shape[0]                                # figure out how big the matrix is\n",
    "LHSOperator=sparse.identity(hamsize,dtype=complex,format=\"csc\")+0.5j*dt*csrham # Operator on Left\n",
    "inverseLHS=linalg.factorized(LHSOperator) # A function which essentially acts like the inverse matrix\n",
    "RHSOperator=sparse.identity(hamsize,dtype=complex,format=\"csc\")-0.5j*dt*csrham # Operator on right"
   ]
  },
  {
   "cell_type": "code",
   "execution_count": 12,
   "metadata": {},
   "outputs": [],
   "source": [
    "#Create Wavepacket\n",
    "\n",
    "def wavepacket(xgrid,x,k,width):\n",
    "    return exp(1.j*k*xgrid-(xgrid-x)**2/(2*width**2))\n",
    "\n",
    "wp=wavepacket(xgrid,4.,12.*pi,1)"
   ]
  },
  {
   "cell_type": "code",
   "execution_count": 13,
   "metadata": {},
   "outputs": [
    {
     "data": {
      "text/plain": [
       "[<matplotlib.lines.Line2D at 0x10d09c6d0>]"
      ]
     },
     "execution_count": 13,
     "metadata": {},
     "output_type": "execute_result"
    },
    {
     "data": {
      "image/png": "[encoded data removed]",
      "text/plain": [
       "<matplotlib.figure.Figure at 0x107d56790>"
      ]
     },
     "metadata": {},
     "output_type": "display_data"
    }
   ],
   "source": [
    "#Plot Wavepacket\n",
    "\n",
    "fill_between(xgrid,abs(wp),-abs(wp),alpha=1,color=\"yellow\")\n",
    "plot(xgrid,real(wp),color=\"blue\")\n",
    "plot(xgrid,imag(wp),color=\"red\")"
   ]
  },
  {
   "cell_type": "code",
   "execution_count": 19,
   "metadata": {},
   "outputs": [
    {
     "ename": "TclError",
     "evalue": "",
     "output_type": "error",
     "traceback": [
      "\u001b[0;31m---------------------------------------------------------------------------\u001b[0m",
      "\u001b[0;31mTclError\u001b[0m                                  Traceback (most recent call last)",
      "\u001b[0;32m<ipython-input-19-6f80508e8575>\u001b[0m in \u001b[0;36m<module>\u001b[0;34m()\u001b[0m\n\u001b[1;32m      1\u001b[0m \u001b[0;31m#Animate Wavepacket\u001b[0m\u001b[0;34m\u001b[0m\u001b[0;34m\u001b[0m\u001b[0m\n\u001b[1;32m      2\u001b[0m \u001b[0;34m\u001b[0m\u001b[0m\n\u001b[0;32m----> 3\u001b[0;31m \u001b[0mviewer\u001b[0m\u001b[0;34m=\u001b[0m\u001b[0mTDSEviewer\u001b[0m\u001b[0;34m(\u001b[0m\u001b[0mwavefunction\u001b[0m\u001b[0;34m=\u001b[0m\u001b[0mwp\u001b[0m\u001b[0;34m,\u001b[0m\u001b[0mgrid\u001b[0m\u001b[0;34m=\u001b[0m\u001b[0mxgrid\u001b[0m\u001b[0;34m)\u001b[0m\u001b[0;34m\u001b[0m\u001b[0m\n\u001b[0m",
      "\u001b[0;32m/Users/Lee/Documents/quantum/TDSEviewer4.pyc\u001b[0m in \u001b[0;36m__init__\u001b[0;34m(self, master, wavefunction, potential, showpotential, heightratio, grid)\u001b[0m\n\u001b[1;32m    102\u001b[0m         \u001b[0mself\u001b[0m\u001b[0;34m.\u001b[0m\u001b[0mcanvas\u001b[0m \u001b[0;34m=\u001b[0m \u001b[0mself\u001b[0m\u001b[0;34m\u001b[0m\u001b[0m\n\u001b[1;32m    103\u001b[0m         \u001b[0;31m#self.canvas = FigureCanvasTkAgg(fig,master=master)\u001b[0m\u001b[0;34m\u001b[0m\u001b[0;34m\u001b[0m\u001b[0m\n\u001b[0;32m--> 104\u001b[0;31m         \u001b[0mself\u001b[0m\u001b[0;34m.\u001b[0m\u001b[0mcanvas\u001b[0m\u001b[0;34m.\u001b[0m\u001b[0mshow\u001b[0m\u001b[0;34m(\u001b[0m\u001b[0;34m)\u001b[0m\u001b[0;34m\u001b[0m\u001b[0m\n\u001b[0m\u001b[1;32m    105\u001b[0m         \u001b[0mself\u001b[0m\u001b[0;34m.\u001b[0m\u001b[0mcanvas\u001b[0m\u001b[0;34m.\u001b[0m\u001b[0mget_tk_widget\u001b[0m\u001b[0;34m(\u001b[0m\u001b[0;34m)\u001b[0m\u001b[0;34m.\u001b[0m\u001b[0mpack\u001b[0m\u001b[0;34m(\u001b[0m\u001b[0mside\u001b[0m\u001b[0;34m=\u001b[0m\u001b[0;34m'top'\u001b[0m\u001b[0;34m,\u001b[0m \u001b[0mfill\u001b[0m\u001b[0;34m=\u001b[0m\u001b[0;34m'both'\u001b[0m\u001b[0;34m,\u001b[0m \u001b[0mexpand\u001b[0m\u001b[0;34m=\u001b[0m\u001b[0;36m1\u001b[0m\u001b[0;34m)\u001b[0m\u001b[0;34m\u001b[0m\u001b[0m\n\u001b[1;32m    106\u001b[0m         \u001b[0;31m#frame.pack()\u001b[0m\u001b[0;34m\u001b[0m\u001b[0;34m\u001b[0m\u001b[0m\n",
      "\u001b[0;32m/Library/Python/2.7/site-packages/matplotlib/backends/backend_tkagg.pyc\u001b[0m in \u001b[0;36mdraw\u001b[0;34m(self)\u001b[0m\n\u001b[1;32m    348\u001b[0m     \u001b[0;32mdef\u001b[0m \u001b[0mdraw\u001b[0m\u001b[0;34m(\u001b[0m\u001b[0mself\u001b[0m\u001b[0;34m)\u001b[0m\u001b[0;34m:\u001b[0m\u001b[0;34m\u001b[0m\u001b[0m\n\u001b[1;32m    349\u001b[0m         \u001b[0mFigureCanvasAgg\u001b[0m\u001b[0;34m.\u001b[0m\u001b[0mdraw\u001b[0m\u001b[0;34m(\u001b[0m\u001b[0mself\u001b[0m\u001b[0;34m)\u001b[0m\u001b[0;34m\u001b[0m\u001b[0m\n\u001b[0;32m--> 350\u001b[0;31m         \u001b[0mtkagg\u001b[0m\u001b[0;34m.\u001b[0m\u001b[0mblit\u001b[0m\u001b[0;34m(\u001b[0m\u001b[0mself\u001b[0m\u001b[0;34m.\u001b[0m\u001b[0m_tkphoto\u001b[0m\u001b[0;34m,\u001b[0m \u001b[0mself\u001b[0m\u001b[0;34m.\u001b[0m\u001b[0mrenderer\u001b[0m\u001b[0;34m.\u001b[0m\u001b[0m_renderer\u001b[0m\u001b[0;34m,\u001b[0m \u001b[0mcolormode\u001b[0m\u001b[0;34m=\u001b[0m\u001b[0;36m2\u001b[0m\u001b[0;34m)\u001b[0m\u001b[0;34m\u001b[0m\u001b[0m\n\u001b[0m\u001b[1;32m    351\u001b[0m         \u001b[0mself\u001b[0m\u001b[0;34m.\u001b[0m\u001b[0m_master\u001b[0m\u001b[0;34m.\u001b[0m\u001b[0mupdate_idletasks\u001b[0m\u001b[0;34m(\u001b[0m\u001b[0;34m)\u001b[0m\u001b[0;34m\u001b[0m\u001b[0m\n\u001b[1;32m    352\u001b[0m \u001b[0;34m\u001b[0m\u001b[0m\n",
      "\u001b[0;32m/Library/Python/2.7/site-packages/matplotlib/backends/tkagg.pyc\u001b[0m in \u001b[0;36mblit\u001b[0;34m(photoimage, aggimage, bbox, colormode)\u001b[0m\n\u001b[1;32m     22\u001b[0m             \u001b[0;32mexcept\u001b[0m \u001b[0mAttributeError\u001b[0m\u001b[0;34m:\u001b[0m\u001b[0;34m\u001b[0m\u001b[0m\n\u001b[1;32m     23\u001b[0m                 \u001b[0m_tkagg\u001b[0m\u001b[0;34m.\u001b[0m\u001b[0mtkinit\u001b[0m\u001b[0;34m(\u001b[0m\u001b[0mid\u001b[0m\u001b[0;34m(\u001b[0m\u001b[0mtk\u001b[0m\u001b[0;34m)\u001b[0m\u001b[0;34m,\u001b[0m \u001b[0;36m0\u001b[0m\u001b[0;34m)\u001b[0m\u001b[0;34m\u001b[0m\u001b[0m\n\u001b[0;32m---> 24\u001b[0;31m             \u001b[0mtk\u001b[0m\u001b[0;34m.\u001b[0m\u001b[0mcall\u001b[0m\u001b[0;34m(\u001b[0m\u001b[0;34m\"PyAggImagePhoto\"\u001b[0m\u001b[0;34m,\u001b[0m \u001b[0mphotoimage\u001b[0m\u001b[0;34m,\u001b[0m \u001b[0mid\u001b[0m\u001b[0;34m(\u001b[0m\u001b[0maggimage\u001b[0m\u001b[0;34m)\u001b[0m\u001b[0;34m,\u001b[0m \u001b[0mcolormode\u001b[0m\u001b[0;34m,\u001b[0m \u001b[0mid\u001b[0m\u001b[0;34m(\u001b[0m\u001b[0mbbox_array\u001b[0m\u001b[0;34m)\u001b[0m\u001b[0;34m)\u001b[0m\u001b[0;34m\u001b[0m\u001b[0m\n\u001b[0m\u001b[1;32m     25\u001b[0m         \u001b[0;32mexcept\u001b[0m \u001b[0;34m(\u001b[0m\u001b[0mImportError\u001b[0m\u001b[0;34m,\u001b[0m \u001b[0mAttributeError\u001b[0m\u001b[0;34m,\u001b[0m \u001b[0mTk\u001b[0m\u001b[0;34m.\u001b[0m\u001b[0mTclError\u001b[0m\u001b[0;34m)\u001b[0m\u001b[0;34m:\u001b[0m\u001b[0;34m\u001b[0m\u001b[0m\n\u001b[1;32m     26\u001b[0m             \u001b[0;32mraise\u001b[0m\u001b[0;34m\u001b[0m\u001b[0m\n",
      "\u001b[0;31mTclError\u001b[0m: "
     ]
    }
   ],
   "source": [
    "#Animate Wavepacket\n",
    "\n",
    "viewer=TDSEviewer(wavefunction=wp,grid=xgrid)"
   ]
  },
  {
   "cell_type": "code",
   "execution_count": 40,
   "metadata": {
    "collapsed": true
   },
   "outputs": [],
   "source": [
    "# initialize\n",
    "t=0.\n",
    "viewer.ylim(-1,1)\n",
    "viewer.wavefunction=wp\n",
    "viewer.xlim(0,40)\n",
    "\n",
    "counter=0\n",
    "# loop over timesteps\n",
    "while t<1.:\n",
    "    viewer.wavefunction=inverseLHS(RHSOperator.dot(viewer.wavefunction))\n",
    "    if counter%100==0:\n",
    "        viewer.updatelines()\n",
    "        viewer.set_title(t)\n",
    "    t=t+dt\n",
    "    counter=counter+1\n",
    "\n",
    "viewer.force_redraw()"
   ]
  },
  {
   "cell_type": "code",
   "execution_count": null,
   "metadata": {
    "collapsed": true
   },
   "outputs": [],
   "source": [
    "#Store timeseries\n",
    "\n",
    "wfseries=array([wf for time,wf in timeseries])"
   ]
  },
  {
   "cell_type": "code",
   "execution_count": null,
   "metadata": {},
   "outputs": [],
   "source": [
    "#With barrier thickness .4\n",
    "\n",
    "xbarrier=arange(20,20.4,.02)\n",
    "pot=concatenate([0*arange(0,20,.02),800*xbarrier/xbarrier,0*arange(20.4,40,.02)])"
   ]
  },
  {
   "cell_type": "code",
   "execution_count": null,
   "metadata": {
    "collapsed": true
   },
   "outputs": [],
   "source": [
    "viewer=TDSEviewer(wavefunction=wp,grid=xgrid)"
   ]
  },
  {
   "cell_type": "code",
   "execution_count": null,
   "metadata": {
    "collapsed": true
   },
   "outputs": [],
   "source": [
    "# initialize\n",
    "t=0.\n",
    "viewer.ylim(-1,1)\n",
    "viewer.wavefunction=wp\n",
    "viewer.xlim(0,40)\n",
    "\n",
    "counter=0\n",
    "# loop over timesteps\n",
    "while t<1.:\n",
    "    viewer.wavefunction=inverseLHS(RHSOperator.dot(viewer.wavefunction))\n",
    "    if counter%100==0:\n",
    "        viewer.updatelines()\n",
    "        viewer.set_title(t)\n",
    "    t=t+dt\n",
    "    counter=counter+1\n",
    "\n",
    "viewer.force_redraw()"
   ]
  },
  {
   "cell_type": "code",
   "execution_count": null,
   "metadata": {
    "collapsed": true
   },
   "outputs": [],
   "source": [
    "wfseries2=array([wf for time,wf in timeseries])"
   ]
  },
  {
   "cell_type": "code",
   "execution_count": 5,
   "metadata": {},
   "outputs": [],
   "source": [
    "#With barrier thickness .8\n",
    "\n",
    "xbarrier=arange(20,20.8,.02)\n",
    "pot=concatenate([0*arange(0,20,.02),800*xbarrier/xbarrier,0*arange(20.8,40,.02)])"
   ]
  },
  {
   "cell_type": "code",
   "execution_count": null,
   "metadata": {
    "collapsed": true
   },
   "outputs": [],
   "source": [
    "viewer=TDSEviewer(wavefunction=wp,grid=xgrid)"
   ]
  },
  {
   "cell_type": "code",
   "execution_count": null,
   "metadata": {
    "collapsed": true
   },
   "outputs": [],
   "source": [
    "# initialize\n",
    "t=0.\n",
    "viewer.ylim(-1,1)\n",
    "viewer.wavefunction=wp\n",
    "viewer.xlim(0,40)\n",
    "\n",
    "counter=0\n",
    "# loop over timesteps\n",
    "while t<1.:\n",
    "    viewer.wavefunction=inverseLHS(RHSOperator.dot(viewer.wavefunction))\n",
    "    if counter%100==0:\n",
    "        viewer.updatelines()\n",
    "        viewer.set_title(t)\n",
    "    t=t+dt\n",
    "    counter=counter+1\n",
    "\n",
    "viewer.force_redraw()"
   ]
  },
  {
   "cell_type": "code",
   "execution_count": null,
   "metadata": {
    "collapsed": true
   },
   "outputs": [],
   "source": [
    "wfseries3=array([wf for time,wf in timeseries])"
   ]
  }
 ],
 "metadata": {
  "kernelspec": {
   "display_name": "scipytest",
   "language": "python",
   "name": "scipytest"
  },
  "language_info": {
   "codemirror_mode": {
    "name": "ipython",
    "version": 3
   },
   "file_extension": ".py",
   "mimetype": "text/x-python",
   "name": "python",
   "nbconvert_exporter": "python",
   "pygments_lexer": "ipython3",
   "version": "3.9.7"
  }
 },
 "nbformat": 4,
 "nbformat_minor": 1
}
